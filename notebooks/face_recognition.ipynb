{
 "cells": [
  {
   "cell_type": "code",
   "execution_count": 29,
   "id": "9a8252ae",
   "metadata": {
    "scrolled": true
   },
   "outputs": [
    {
     "name": "stdout",
     "output_type": "stream",
     "text": [
      "Requirement already satisfied: opencv-contrib-python in c:\\programdata\\anaconda3\\lib\\site-packages (4.6.0.66)\n",
      "Requirement already satisfied: numpy>=1.17.3 in c:\\users\\lstor\\appdata\\roaming\\python\\python38\\site-packages (from opencv-contrib-python) (1.19.5)\n"
     ]
    }
   ],
   "source": [
    "#Instalación de paquetes\n",
    "\n",
    "!pip install opencv-contrib-python\n",
    "\n"
   ]
  },
  {
   "cell_type": "code",
   "execution_count": 26,
   "id": "7b707bd6",
   "metadata": {},
   "outputs": [
    {
     "name": "stdout",
     "output_type": "stream",
     "text": [
      "Processing c:\\users\\lstor\\downloads\\install-dlib-main\\dlib-19.19.0-cp38-cp38-win_amd64.whl\n",
      "Installing collected packages: dlib\n",
      "Successfully installed dlib-19.19.0\n"
     ]
    }
   ],
   "source": [
    "## Descargar dblib de:\n",
    "##https://github.com/datamagic2020/Install-dlib\n",
    "## instalar el que corresponde a la version 3.8\n",
    "!pip install \"C:\\Users\\lstor\\Downloads\\Install-dlib-main\\dlib-19.19.0-cp38-cp38-win_amd64.whl\"\n"
   ]
  },
  {
   "cell_type": "code",
   "execution_count": 27,
   "id": "f6af3717",
   "metadata": {},
   "outputs": [
    {
     "name": "stdout",
     "output_type": "stream",
     "text": [
      "Requirement already satisfied: CMake in c:\\programdata\\anaconda3\\lib\\site-packages (3.25.0)\n"
     ]
    }
   ],
   "source": [
    "!pip install CMake"
   ]
  },
  {
   "cell_type": "code",
   "execution_count": 28,
   "id": "598b0b29",
   "metadata": {},
   "outputs": [
    {
     "name": "stdout",
     "output_type": "stream",
     "text": [
      "Collecting face-recognition\n",
      "  Using cached face_recognition-1.3.0-py2.py3-none-any.whl (15 kB)\n",
      "Requirement already satisfied: dlib>=19.7 in c:\\programdata\\anaconda3\\lib\\site-packages (from face-recognition) (19.19.0)\n",
      "Requirement already satisfied: Click>=6.0 in c:\\programdata\\anaconda3\\lib\\site-packages (from face-recognition) (7.1.2)\n",
      "Requirement already satisfied: Pillow in c:\\programdata\\anaconda3\\lib\\site-packages (from face-recognition) (8.2.0)\n",
      "Requirement already satisfied: numpy in c:\\users\\lstor\\appdata\\roaming\\python\\python38\\site-packages (from face-recognition) (1.19.5)\n",
      "Requirement already satisfied: face-recognition-models>=0.3.0 in c:\\programdata\\anaconda3\\lib\\site-packages (from face-recognition) (0.3.0)\n",
      "Installing collected packages: face-recognition\n",
      "Successfully installed face-recognition-1.3.0\n"
     ]
    }
   ],
   "source": [
    "!pip install face-recognition"
   ]
  },
  {
   "cell_type": "code",
   "execution_count": 43,
   "id": "e1262cc9",
   "metadata": {},
   "outputs": [
    {
     "name": "stdout",
     "output_type": "stream",
     "text": [
      "Frames firstvideo:  246\n",
      "Frames anyvideo:  204\n"
     ]
    }
   ],
   "source": [
    "import cv2\n",
    "import face_recognition\n",
    "\n",
    "##Cargar los videos aqui\n",
    "\n",
    "path_firstvideo='video1.webm'\n",
    "path_anyvideo='video3.webm'\n",
    "\n",
    "\n",
    "capture1=cv2.VideoCapture(path_firstvideo)\n",
    "\n",
    "frames1=[]\n",
    "while (capture1.isOpened()):\n",
    "    ret,frame= capture1.read()\n",
    "    if ret==False:break\n",
    "   \n",
    "    frames1.append(frame)\n",
    "     \n",
    "    k=cv2.waitKey(1)\n",
    "    if k==27 & 0xFF:\n",
    "        break\n",
    "capture1.release()\n",
    "cv2.destroyAllWindows()\n",
    "\n",
    "print(\"Frames firstvideo: \",len(frames1))\n",
    "\n",
    "\n",
    "capture2=cv2.VideoCapture(path_anyvideo)\n",
    "\n",
    "frames2=[]\n",
    "while (capture2.isOpened()):\n",
    "    ret,frame= capture2.read()\n",
    "    if ret==False:break\n",
    "   \n",
    "    frames2.append(frame)\n",
    "    \n",
    "    k=cv2.waitKey(1)\n",
    "    if k==27 & 0xFF:\n",
    "        break\n",
    "capture2.release()\n",
    "cv2.destroyAllWindows()\n",
    "\n",
    "\n",
    "print(\"Frames anyvideo: \",len(frames2))\n",
    "  "
   ]
  },
  {
   "cell_type": "code",
   "execution_count": 44,
   "id": "26b635ad",
   "metadata": {},
   "outputs": [
    {
     "name": "stdout",
     "output_type": "stream",
     "text": [
      "Numero de True:  25\n",
      "Numero de False:  0\n",
      "% Correspondencia: 100.0\n",
      "--> Es la misma persona\n"
     ]
    }
   ],
   "source": [
    "cont_true=0\n",
    "cont_false=0\n",
    "\n",
    "lf1=len(frames1)\n",
    "lf2=len(frames2)\n",
    "\n",
    "#Sampleamos 5 frames de la lista de frames de cada video\n",
    "range1=[0,int(lf1*0.2),int(lf1*0.4),int(lf1*0.6),int(lf1*0.8)]\n",
    "range2=[0,int(lf2*0.2),int(lf2*0.4),int(lf2*0.6),int(lf2*0.8)]\n",
    "\n",
    "\n",
    "for i in range1:\n",
    "    for j in range2:\n",
    "        \n",
    "        face_locations1=face_recognition.face_locations(frames1[i])\n",
    "        face_locations2=face_recognition.face_locations(frames2[j])\n",
    "       \n",
    "        \n",
    "        if face_locations1 != [] and face_locations2 != []:\n",
    "        \n",
    "            for face_location1 in face_locations1:\n",
    "                for face_location2 in face_locations2:\n",
    "            \n",
    "                    face_frame_encoding1 = face_recognition.face_encodings(frames1[i],known_face_locations=[face_location1])[0]\n",
    "                    face_frame_encoding2 = face_recognition.face_encodings(frames2[j],known_face_locations=[face_location2])[0]\n",
    "        \n",
    "                    result = face_recognition.compare_faces([face_frame_encoding1],face_frame_encoding2)\n",
    "                   \n",
    "                     \n",
    "                    if result[0]==True:\n",
    "                        cont_true=cont_true+1\n",
    "                    if result[0]==False: \n",
    "                        cont_false=cont_false+1\n",
    "\n",
    "if cont_true+cont_false!=0:\n",
    "    corresp=100*(cont_true)/(cont_true+cont_false)\n",
    "else:\n",
    "    corresp=0\n",
    "    print(\"No se detecto rostros en los frames\")\n",
    "                        \n",
    "print(\"Numero de True: \",cont_true)\n",
    "print(\"Numero de False: \",cont_false)\n",
    "\n",
    "\n",
    "print(\"% Correspondencia:\", corresp)\n",
    "\n",
    "if corresp>70:\n",
    "    print(\"--> Es la misma persona\")\n",
    "else:\n",
    "    print(\"--> No se trata de la misma persona\")\n",
    "\n"
   ]
  },
  {
   "cell_type": "code",
   "execution_count": 18,
   "id": "3161831b",
   "metadata": {},
   "outputs": [
    {
     "name": "stdout",
     "output_type": "stream",
     "text": [
      "\n"
     ]
    }
   ],
   "source": []
  },
  {
   "cell_type": "code",
   "execution_count": 19,
   "id": "5086008e",
   "metadata": {},
   "outputs": [
    {
     "name": "stdout",
     "output_type": "stream",
     "text": [
      "\n"
     ]
    }
   ],
   "source": []
  },
  {
   "cell_type": "code",
   "execution_count": null,
   "id": "113d3d46",
   "metadata": {},
   "outputs": [],
   "source": []
  }
 ],
 "metadata": {
  "kernelspec": {
   "display_name": "Python 3",
   "language": "python",
   "name": "python3"
  },
  "language_info": {
   "codemirror_mode": {
    "name": "ipython",
    "version": 3
   },
   "file_extension": ".py",
   "mimetype": "text/x-python",
   "name": "python",
   "nbconvert_exporter": "python",
   "pygments_lexer": "ipython3",
   "version": "3.8.8"
  }
 },
 "nbformat": 4,
 "nbformat_minor": 5
}
